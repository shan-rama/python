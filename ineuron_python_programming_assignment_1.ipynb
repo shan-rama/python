{
 "cells": [
  {
   "cell_type": "code",
   "execution_count": 13,
   "metadata": {},
   "outputs": [
    {
     "name": "stdout",
     "output_type": "stream",
     "text": [
      "Hello Python\n"
     ]
    }
   ],
   "source": [
    "#q1)print hello python\n",
    "a=\"Hello Python\"\n",
    "print(a)"
   ]
  },
  {
   "cell_type": "code",
   "execution_count": 3,
   "metadata": {},
   "outputs": [
    {
     "name": "stdout",
     "output_type": "stream",
     "text": [
      "hello world\n"
     ]
    }
   ],
   "source": []
  },
  {
   "cell_type": "code",
   "execution_count": 12,
   "metadata": {},
   "outputs": [
    {
     "name": "stdout",
     "output_type": "stream",
     "text": [
      "19\n"
     ]
    }
   ],
   "source": []
  },
  {
   "cell_type": "code",
   "execution_count": 17,
   "metadata": {},
   "outputs": [
    {
     "name": "stdout",
     "output_type": "stream",
     "text": [
      "3\n"
     ]
    }
   ],
   "source": [
    "#q2)Program to do Addition & Division\n",
    "a,b,c = 9,3,4\n",
    "d=(a+b)/c\n",
    "print((d))"
   ]
  },
  {
   "cell_type": "code",
   "execution_count": 20,
   "metadata": {},
   "outputs": [
    {
     "name": "stdout",
     "output_type": "stream",
     "text": [
      "3.75\n"
     ]
    }
   ],
   "source": [
    "#q2)Program to do Addition & Division\n",
    "a,b,c = 12,3,4\n",
    "d=(a+b)/c\n",
    "print((d))"
   ]
  },
  {
   "cell_type": "code",
   "execution_count": 21,
   "metadata": {},
   "outputs": [
    {
     "data": {
      "text/plain": [
       "3.75"
      ]
     },
     "execution_count": 21,
     "metadata": {},
     "output_type": "execute_result"
    }
   ],
   "source": []
  },
  {
   "cell_type": "code",
   "execution_count": 23,
   "metadata": {},
   "outputs": [
    {
     "data": {
      "text/plain": [
       "0.0"
      ]
     },
     "execution_count": 23,
     "metadata": {},
     "output_type": "execute_result"
    }
   ],
   "source": []
  },
  {
   "cell_type": "code",
   "execution_count": 26,
   "metadata": {},
   "outputs": [
    {
     "name": "stdout",
     "output_type": "stream",
     "text": [
      "144.0\n"
     ]
    }
   ],
   "source": [
    "#q3)Area of Triangle\n",
    "base=12\n",
    "height=24\n",
    "areaoftriangle = 1/2 * base * height\n",
    "print(areaoftriangle)"
   ]
  },
  {
   "cell_type": "code",
   "execution_count": 27,
   "metadata": {},
   "outputs": [
    {
     "name": "stdout",
     "output_type": "stream",
     "text": [
      "10 5\n"
     ]
    }
   ],
   "source": [
    "#q4)Python program to swap two variables\n",
    "a=5\n",
    "b=10\n",
    "c=a\n",
    "a=b\n",
    "b=c\n",
    "print(a,b)"
   ]
  },
  {
   "cell_type": "code",
   "execution_count": 28,
   "metadata": {},
   "outputs": [
    {
     "name": "stdout",
     "output_type": "stream",
     "text": [
      "Enter number 1:46\n",
      "Enter number 2:49\n",
      "number 1 after swap: 49\n",
      "number 2 after swap: 46\n"
     ]
    }
   ],
   "source": [
    "#q4)Python program to swap two variables\n",
    "a=int(input('Enter number 1:'))\n",
    "b=int(input('Enter number 2:'))\n",
    "a,b=b,a\n",
    "print(\"number 1 after swap:\", a )\n",
    "print(\"number 2 after swap:\", b )\n"
   ]
  },
  {
   "cell_type": "code",
   "execution_count": 62,
   "metadata": {},
   "outputs": [
    {
     "name": "stdout",
     "output_type": "stream",
     "text": [
      "A Random number i want to choose: 87\n",
      "Another Random number i want to choose: 92\n",
      "Random number between -100 and -1 is: -38\n",
      "Another random number bet 0 to 1 is 0.07773918381830047\n"
     ]
    }
   ],
   "source": [
    "#q5)Python program to generate a random number\n",
    "import random\n",
    "a=random.randint(51,97)\n",
    "print(\"A Random number i want to choose:\", a)\n",
    "b=random.randrange(12,99,10)\n",
    "print(\"Another Random number i want to choose:\", b)\n",
    "c = random.randint(-100,-1)\n",
    "print(\"Random number between -100 and -1 is:\", c)\n",
    "d=random.random()\n",
    "print(\"Another random number bet 0 to 1 is\",d)\n"
   ]
  },
  {
   "cell_type": "code",
   "execution_count": null,
   "metadata": {},
   "outputs": [],
   "source": []
  },
  {
   "cell_type": "code",
   "execution_count": null,
   "metadata": {},
   "outputs": [],
   "source": []
  }
 ],
 "metadata": {
  "kernelspec": {
   "display_name": "Python 3",
   "language": "python",
   "name": "python3"
  },
  "language_info": {
   "codemirror_mode": {
    "name": "ipython",
    "version": 3
   },
   "file_extension": ".py",
   "mimetype": "text/x-python",
   "name": "python",
   "nbconvert_exporter": "python",
   "pygments_lexer": "ipython3",
   "version": "3.8.5"
  }
 },
 "nbformat": 4,
 "nbformat_minor": 4
}
